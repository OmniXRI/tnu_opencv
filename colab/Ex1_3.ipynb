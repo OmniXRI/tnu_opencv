{
  "nbformat": 4,
  "nbformat_minor": 0,
  "metadata": {
    "colab": {
      "name": "Ex1-3.ipynb",
      "provenance": [],
      "collapsed_sections": []
    },
    "kernelspec": {
      "name": "python3",
      "display_name": "Python 3"
    },
    "language_info": {
      "name": "python"
    }
  },
  "cells": [
    {
      "cell_type": "markdown",
      "metadata": {
        "id": "8-H0p2up1ECm"
      },
      "source": [
        "Ex1-3 轉換彩色影像變灰階並顯示\n",
        "\n",
        "程式設計 : OmniXRI Jack 2021/03/26\n"
      ]
    },
    {
      "cell_type": "code",
      "metadata": {
        "id": "-nzHgZTq1AVd"
      },
      "source": [
        "# 下載測試用影像 Lena.png\n",
        "!wget -N https://raw.githubusercontent.com/OmniXRI/tnu_opencv/main/samples/Lena.png\n",
        "# 檢查工作路徑內容\n",
        "!ls"
      ],
      "execution_count": null,
      "outputs": []
    },
    {
      "cell_type": "code",
      "metadata": {
        "id": "XSvtTB0D1O4r"
      },
      "source": [
        "import cv2 # 引入OpenCV函式庫\n",
        "from google.colab.patches import cv2_imshow # 導入Colab.patches函式庫\n",
        "\n",
        "# 開啟彩色影像檔並讀入img1中\n",
        "img1 = cv2.imread('Lena.png') # 預設為BGR彩色\n",
        "# 將彩色影像轉換成灰階影像img2\n",
        "img2 = cv2.cvtColor(img1, cv2.COLOR_BGR2GRAY)\n",
        "# 將灰階影像img2寫入磁碟，指定檔名\n",
        "cv2.imwrite('Lena_G.png', img2)\n",
        "#顯示BGR格式的灰階影像\n",
        "cv2_imshow(img2)"
      ],
      "execution_count": null,
      "outputs": []
    }
  ]
}
