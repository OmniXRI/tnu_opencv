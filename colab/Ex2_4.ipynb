{
  "nbformat": 4,
  "nbformat_minor": 0,
  "metadata": {
    "colab": {
      "name": "Ex2-4.ipynb",
      "provenance": [],
      "collapsed_sections": []
    },
    "kernelspec": {
      "name": "python3",
      "display_name": "Python 3"
    },
    "language_info": {
      "name": "python"
    }
  },
  "cells": [
    {
      "cell_type": "markdown",
      "metadata": {
        "id": "C2jtoU61DZ7m"
      },
      "source": [
        "Ex2-4 影像亮度/對比調整\n",
        "\n",
        "程式設計 : OmniXRI Jack 2021/03/26"
      ]
    },
    {
      "cell_type": "code",
      "metadata": {
        "id": "VLK_tgKtDZFk"
      },
      "source": [
        "# 下載測試用影像 Lena.png\n",
        "!wget -N https://raw.githubusercontent.com/OmniXRI/tnu_opencv/main/samples/Lena.png\n",
        "# 檢查工作路徑內容\n",
        "!ls"
      ],
      "execution_count": null,
      "outputs": []
    },
    {
      "cell_type": "code",
      "metadata": {
        "id": "kPevRdtKDw4n"
      },
      "source": [
        "import cv2 # 導入 cv2 函式庫\n",
        "import numpy as np # 導入 cv2 函式庫\n",
        "import matplotlib.pyplot as plt # 導入 matplotlib.pyplot 函式庫\n",
        "imgSrc = cv2.imread('Lena.png',cv2.IMREAD_COLOR) # 讀入彩色影像\n",
        "c = 1.3 # 放大量，調整對比\n",
        "b = -50 # 偏置量，調整亮度\n",
        "#創建一尺寸和輸入影像大小相同的全零(黑)影像\n",
        "blank = np.zeros(imgSrc.shape, imgSrc.dtype)\n",
        "imgAdj = cv2.addWeighted(imgSrc,c,blank,1-c,b) # 加權計算\n",
        "rgb1 = cv2.cvtColor(imgSrc, cv2.COLOR_BGR2RGB) # BGR轉RGB\n",
        "rgb2 = cv2.cvtColor(imgAdj, cv2.COLOR_BGR2RGB) # BGR轉RGB\n",
        "titles = ['img','Adj.']\n",
        "images = [rgb1,rgb2]\n",
        "for i in range(2): # 繪製結果影像\n",
        "    plt.subplot(1,2,i+1),plt.imshow(images[i])\n",
        "    plt.title(titles[i])\n",
        "    plt.xticks([]),plt.yticks([])\n",
        "plt.show()"
      ],
      "execution_count": null,
      "outputs": []
    }
  ]
}
