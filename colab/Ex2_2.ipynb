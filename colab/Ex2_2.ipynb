{
  "nbformat": 4,
  "nbformat_minor": 0,
  "metadata": {
    "colab": {
      "name": "Ex2-2.ipynb",
      "provenance": [],
      "collapsed_sections": []
    },
    "kernelspec": {
      "name": "python3",
      "display_name": "Python 3"
    },
    "language_info": {
      "name": "python"
    }
  },
  "cells": [
    {
      "cell_type": "markdown",
      "metadata": {
        "id": "z7dlHhHA76GT"
      },
      "source": [
        "Ex2-2 讀入影像轉成灰階並顯示不同二值化結果\n",
        "\n",
        "程式設計 : OmniXRI Jack 2021/03/26"
      ]
    },
    {
      "cell_type": "code",
      "metadata": {
        "id": "9P-Nn96Y75Wb"
      },
      "source": [
        "# 下載測試用影像 Lena.png\n",
        "!wget -N https://raw.githubusercontent.com/OmniXRI/tnu_opencv/main/samples/Lena.png\n",
        "# 檢查工作路徑內容\n",
        "!ls"
      ],
      "execution_count": null,
      "outputs": []
    },
    {
      "cell_type": "code",
      "metadata": {
        "id": "7x-9fi7i76uC"
      },
      "source": [
        "import cv2 # 導入 cv2 函式庫\n",
        "import matplotlib.pyplot as plt # 導入 matplotlib.pyplot 函式庫\n",
        "\u000bimg = cv2.imread('Lena.png',cv2.IMREAD_GRAYSCALE) # 讀入影像並轉成灰階\n",
        "ret,thresh1 = cv2.threshold(img,127,255,cv2.THRESH_BINARY)\n",
        "ret,thresh2 = cv2.threshold(img,127,255,cv2.THRESH_BINARY_INV)\n",
        "ret,thresh3 = cv2.threshold(img,127,255,cv2.THRESH_TRUNC)\n",
        "ret,thresh4 = cv2.threshold(img,127,255,cv2.THRESH_TOZERO)\n",
        "ret,thresh5 = cv2.threshold(img,127,255,cv2.THRESH_TOZERO_INV)\n",
        "titles = ['img','BINARY','BINARY_INV','TRUNC','TOZERO','TOZERO_INV']\n",
        "images = [img,thresh1,thresh2,thresh3,thresh4,thresh5]\n",
        "for i in range(6): # 繪製結果影像\n",
        "    plt.subplot(2,3,i+1),plt.imshow(images[i],'gray')\n",
        "    plt.title(titles[i])\n",
        "    plt.xticks([]),plt.yticks([])\n",
        "plt.show()"
      ],
      "execution_count": null,
      "outputs": []
    }
  ]
}
