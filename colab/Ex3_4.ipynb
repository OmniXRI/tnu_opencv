{
  "nbformat": 4,
  "nbformat_minor": 0,
  "metadata": {
    "colab": {
      "name": "Ex3-4.ipynb",
      "provenance": [],
      "collapsed_sections": []
    },
    "kernelspec": {
      "name": "python3",
      "display_name": "Python 3"
    },
    "language_info": {
      "name": "python"
    }
  },
  "cells": [
    {
      "cell_type": "markdown",
      "metadata": {
        "id": "PBijdWjryO5C"
      },
      "source": [
        "Ex3-4 彩色影像直方圖強化\n",
        "\n",
        "程式設計 : OmniXRI Jack 2021/04/09\n"
      ]
    },
    {
      "cell_type": "code",
      "metadata": {
        "id": "--PGnIBQyOTh"
      },
      "source": [
        "# 下載測試用影像\n",
        "!wget -N https://raw.githubusercontent.com/OmniXRI/tnu_opencv/main/samples/Lena.png\n",
        "# 檢查工作路徑內容\n",
        "!ls"
      ],
      "execution_count": null,
      "outputs": []
    },
    {
      "cell_type": "code",
      "metadata": {
        "id": "OwKZPBtFyaQU"
      },
      "source": [
        "import cv2 # 導入cv2函式庫\n",
        "import numpy as np # 導入numpy函式庫\n",
        "import matplotlib.pyplot as plt # 導入matplotlib函式庫\n",
        "\n",
        "imgC = cv2.imread('Lena.png') # 讀入彩色影像\n",
        "imgYCrCb = cv2.cvtColor(imgC,cv2.COLOR_BGR2YCrCb) # 將彩色影像從BGR轉到YCrCb色彩空間\n",
        "\n",
        "imgY,imgCr,imgCb = cv2.split(imgYCrCb) # 分離YCrCb三通道影像到三個單通道影像\n",
        "imgYE = cv2.equalizeHist(imgY) # 對亮度影像imgY進行直方圖等化\n",
        "imgM = cv2.merge([imgYE,imgCr,imgCb]) # 重新合併imgYE,imgCr,imgCb\n",
        "\n",
        "rgb1 = cv2.cvtColor(imgC,cv2.COLOR_BGR2RGB) # 將BGR格式轉成RGB格式\n",
        "rgb2 = cv2.cvtColor(imgM,cv2.COLOR_YCrCb2RGB) #將YCrCb格式轉成RGB格式\n",
        "\n",
        "titles = ['Ori','Gray','Enhance','Equal']\n",
        "images = [rgb1,imgY,rgb2,imgYE]\n",
        "\n",
        "for i in range(4): # 繪製結果影像\n",
        "  if i==0 or i==2:\n",
        "    plt.subplot(2,2,i+1),plt.imshow(images[i])\n",
        "  else:\n",
        "    plt.subplot(2,2,i+1),plt.imshow(images[i],'gray')\n",
        "\n",
        "  plt.title(titles[i])\n",
        "  plt.xticks([]),plt.yticks([])\n",
        "\n",
        "plt.rcParams['figure.dpi'] = 150 # 設定圖片解析度\n",
        "plt.show()"
      ],
      "execution_count": null,
      "outputs": []
    }
  ]
}