{
  "nbformat": 4,
  "nbformat_minor": 0,
  "metadata": {
    "colab": {
      "name": "Ex1-1.ipynb",
      "provenance": [],
      "collapsed_sections": []
    },
    "kernelspec": {
      "name": "python3",
      "display_name": "Python 3"
    },
    "language_info": {
      "name": "python"
    }
  },
  "cells": [
    {
      "cell_type": "markdown",
      "metadata": {
        "id": "70MbJH5Lx0Ld"
      },
      "source": [
        "Ex1-1 使用OpenCV標準函式讀入並顯示影像\n",
        "\n",
        "程式設計 : OmniXRI Jack 2021/03/26"
      ]
    },
    {
      "cell_type": "code",
      "metadata": {
        "id": "wJpR24YkxynU"
      },
      "source": [
        "# 下載測試用影像 Lena.png\n",
        "!wget -N !wget -N https://raw.githubusercontent.com/OmniXRI/tnu_opencv/main/samples/Lena.png\n",
        "# 檢查工作路徑內容\n",
        "!ls"
      ],
      "execution_count": null,
      "outputs": []
    },
    {
      "cell_type": "code",
      "metadata": {
        "id": "nr_fEuAzyHAy"
      },
      "source": [
        "import cv2 # 引入OpenCV函式庫\n",
        "# 開啟彩色影像檔Lena.png並讀入imgC中，最好不要有中文路徑\n",
        "imgC = cv2.imread('Lena.png') # 預設為BGR彩色\n",
        "cv2.imshow('My Image', imgC) # 顯示影像imgC到視窗，標題My Image \n",
        "cv2.waitKey(0) # 等待按鍵結束程式\n",
        "cv2.destroyAllWindows() # 關閉所有視窗"
      ],
      "execution_count": null,
      "outputs": []
    }
  ]
}