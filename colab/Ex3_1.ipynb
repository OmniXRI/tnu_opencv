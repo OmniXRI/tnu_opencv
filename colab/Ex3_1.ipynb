{
  "nbformat": 4,
  "nbformat_minor": 0,
  "metadata": {
    "colab": {
      "name": "Ex3-1.ipynb",
      "provenance": [],
      "collapsed_sections": []
    },
    "kernelspec": {
      "name": "python3",
      "display_name": "Python 3"
    },
    "language_info": {
      "name": "python"
    }
  },
  "cells": [
    {
      "cell_type": "markdown",
      "metadata": {
        "id": "eYsVREwdRpRb"
      },
      "source": [
        "Ex3-1 讀入彩色影像並分離通道\n",
        "\n",
        "程式設計 : OmniXRI Jack 2021/04/09\n"
      ]
    },
    {
      "cell_type": "code",
      "metadata": {
        "id": "e1wEZ3jgRlsR"
      },
      "source": [
        "# 下載測試用影像\n",
        "!wget -N https://raw.githubusercontent.com/OmniXRI/tnu_opencv/main/samples/color_ball.jpg\n",
        "# 檢查工作路徑內容\n",
        "!ls"
      ],
      "execution_count": null,
      "outputs": []
    },
    {
      "cell_type": "code",
      "metadata": {
        "id": "gfpozPXJSdfD"
      },
      "source": [
        "import cv2 # 導入 cv2 函式庫\n",
        "import matplotlib.pyplot as plt # 導入 matplotlib 函式庫\n",
        "\n",
        "\u000bimgSrc = cv2.imread('color_ball.jpg',cv2.IMREAD_COLOR) # 讀入彩色影像\n",
        "imgB,imgG,imgR = cv2.split(imgSrc) # 分離BGR彩色影像到三個獨立影像通道\n",
        "\n",
        "imgYCrCb = cv2.cvtColor(imgSrc,cv2.COLOR_BGR2YCrCb) # 轉換BGR彩色影像至YCrCb格式\n",
        "imgY,imgCr,imgCb = cv2.split(imgYCrCb) # 分離YCrCb彩色影像到三個獨立影像\n",
        "rgb1 = cv2.cvtColor(imgSrc,cv2.COLOR_BGR2RGB) # 轉換BGR彩色影像至RGB格式\n",
        "\n",
        "titles = ['BGR','B','G','R','RGB','Y','Cr','Cb'] # 設定標題\n",
        "images = [imgSrc,imgB,imgG,imgR,rgb1,imgY,imgCr,imgCb] # 設定繪製影像\n",
        "\n",
        "for i in range(8): # 繪製結果影像\n",
        "    if i==0 or i==4: # 若為第0, 4組則繪製彩圖\n",
        "      plt.subplot(2,4,i+1),plt.imshow(images[i])\n",
        "    else: # 其餘繪製灰階圖\n",
        "      plt.subplot(2,4,i+1),plt.imshow(images[i],'gray')\n",
        "\n",
        "    plt.title(titles[i])\n",
        "    plt.xticks([]),plt.yticks([])\n",
        "    \n",
        "plt.rcParams['figure.dpi'] = 150\n",
        "plt.show()\n"
      ],
      "execution_count": null,
      "outputs": []
    }
  ]
}