{
  "nbformat": 4,
  "nbformat_minor": 0,
  "metadata": {
    "colab": {
      "name": "Ex3-5.ipynb",
      "provenance": [],
      "collapsed_sections": []
    },
    "kernelspec": {
      "name": "python3",
      "display_name": "Python 3"
    },
    "language_info": {
      "name": "python"
    }
  },
  "cells": [
    {
      "cell_type": "markdown",
      "metadata": {
        "id": "mRVW01SJ42Fi"
      },
      "source": [
        "Ex3-5 基本繪圖函數\n",
        "\n",
        "程式設計 : OmniXRI Jack 2021/04/09\n"
      ]
    },
    {
      "cell_type": "code",
      "metadata": {
        "id": "O-TKREv_406d"
      },
      "source": [
        "import cv2 # 導入cv2函式庫\n",
        "import numpy as np # 導入numpy函式庫\n",
        "import matplotlib.pyplot as plt # 導入matplotlib函式庫\n",
        "\n",
        "canvas = np.zeros((200,200,3),dtype=\"uint8\") # 產生一空白（全黑）的影像\n",
        "color_r = (0,0,255) # 設定紅色\n",
        "color_g = (0,255,0) # 設定綠色\n",
        "color_b = (255,0,0) # 設定藍色\n",
        "\n",
        "cv2.line(canvas,(0,0),(200,200),color_b,2) # 繪製一藍色線，左上到右下，線寬2px\n",
        "\n",
        "cv2.rectangle(canvas,(50,50),(100,80),color_g,2) # 繪製一個綠色空心矩形，線寬2px\n",
        "cv2.rectangle(canvas,(150,50),(180,120),color_r,-1) # 繪製一個紅色實心矩形\n",
        "\n",
        "cv2.circle(canvas,(100,100),80,color_g,2) # 繪製一綠色空心圓形，半徑80，線寬2px\n",
        "\n",
        "# 繪製一紅色空心橢圓中心(50,150)，軸長(25,45)，傾斜45度，從0度畫到360度，線寬2px\n",
        "cv2.ellipse(canvas,(50,150),(25,45),45,0,360,color_r,2)\n",
        "\n",
        "# 繪製綠色文字'OpenCV'到(50,150)，字形FONT_HERSHEY_SIMPLEX，字0.8倍大小，線寬1px \n",
        "cv2.putText(canvas,'OpenCV',(50,150),cv2.FONT_HERSHEY_SIMPLEX,0.8,color_g,1) \n",
        "\n",
        "rgb = cv2.cvtColor(canvas,cv2.COLOR_BGR2RGB) # 將BGR格式轉成RGB格式\n",
        "plt.imshow(rgb)\n",
        "plt.show()"
      ],
      "execution_count": null,
      "outputs": []
    }
  ]
}