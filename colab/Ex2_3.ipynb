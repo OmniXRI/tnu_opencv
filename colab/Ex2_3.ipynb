{
  "nbformat": 4,
  "nbformat_minor": 0,
  "metadata": {
    "colab": {
      "name": "Ex2-3.ipynb",
      "provenance": [],
      "collapsed_sections": []
    },
    "kernelspec": {
      "name": "python3",
      "display_name": "Python 3"
    },
    "language_info": {
      "name": "python"
    }
  },
  "cells": [
    {
      "cell_type": "markdown",
      "metadata": {
        "id": "pOVOthgu-mJl"
      },
      "source": [
        "Ex2-3 讀入影像轉成灰階並顯示自適應二值化結果\n",
        "\n",
        "程式設計 : OmniXRI Jack 2021/03/26"
      ]
    },
    {
      "cell_type": "code",
      "metadata": {
        "id": "LstmRm1u-lNZ"
      },
      "source": [
        "# 下載測試用影像 Lena.png\n",
        "!wget -N !wget -N https://raw.githubusercontent.com/OmniXRI/tnu_opencv/main/samples/Lena.png\n",
        "# 檢查工作路徑內容\n",
        "!ls"
      ],
      "execution_count": null,
      "outputs": []
    },
    {
      "cell_type": "code",
      "metadata": {
        "id": "OLjGYyUm-0fe"
      },
      "source": [
        "import cv2  # 導入 cv2 函式庫\n",
        "import matplotlib.pyplot as plt  # 導入 matplotlib.pyplot 函式庫\n",
        "img = cv2.imread('Lena.png',cv2.IMREAD_GRAYSCALE) # 讀入影像轉成灰階\n",
        "ret,th1 = cv2.threshold(img,127,255, cv2.THRESH_BINARY)\n",
        "th2 = cv2.adaptiveThreshold(img,255, cv2.ADAPTIVE_THRESH_MEAN_C, \\\n",
        "cv2.THRESH_BINARY,11,2)\n",
        "th3 = cv2.adaptiveThreshold(img,255, cv2.ADAPTIVE_THRESH_GAUSSIAN_C, \\\n",
        "cv2.THRESH_BINARY,11,2)\n",
        "titles = ['img','BINARY','MEAN_C','GAUSSIAN_C']\n",
        "images = [img,th1,th2,th3]\n",
        "for i in range(4): # 繪製結果影像\n",
        "    plt.subplot(2,2,i+1),plt.imshow(images[i],'gray')\n",
        "    plt.title(titles[i])\n",
        "    plt.xticks([]),plt.yticks([])\n",
        "plt.show()"
      ],
      "execution_count": null,
      "outputs": []
    }
  ]
}