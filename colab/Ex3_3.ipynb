{
  "nbformat": 4,
  "nbformat_minor": 0,
  "metadata": {
    "colab": {
      "name": "Ex3-3.ipynb",
      "provenance": [],
      "collapsed_sections": []
    },
    "kernelspec": {
      "name": "python3",
      "display_name": "Python 3"
    },
    "language_info": {
      "name": "python"
    }
  },
  "cells": [
    {
      "cell_type": "markdown",
      "metadata": {
        "id": "aYnhDkwEfmn4"
      },
      "source": [
        "Ex3-3 彩色影像平滑與銳化\n",
        "\n",
        "程式設計 : OmniXRI Jack 2021/04/09\n"
      ]
    },
    {
      "cell_type": "code",
      "metadata": {
        "id": "yybzijXpfi0g"
      },
      "source": [
        "# 下載測試用影像\n",
        "!wget -N https://raw.githubusercontent.com/OmniXRI/tnu_opencv/main/samples/Lena.png\n",
        "# 檢查工作路徑內容\n",
        "!ls"
      ],
      "execution_count": null,
      "outputs": []
    },
    {
      "cell_type": "code",
      "metadata": {
        "id": "g5MB5TNVghN2"
      },
      "source": [
        "import cv2 # 導入cv2函式庫\n",
        "import numpy as np #導入numpy函式庫\n",
        "import matplotlib.pyplot as plt # 導入matplotlib函式庫\n",
        "\n",
        "img1 = cv2.imread('Lena.png',cv2.IMREAD_COLOR) # 讀入彩色影像\n",
        "img2 = cv2.GaussianBlur(img1,(13,13),0) # 高斯濾波平滑化，核大小13x13\n",
        "\n",
        "kernel = np.array(([-1,-1,-1],[-1,9,-1],[-1,-1,-1]),dtype='float32') # 建立3x3卷積核\n",
        "img3 = cv2.filter2D(img1,-1,kernel) # 影像銳化（卷積），核大小3x3\n",
        "\n",
        "rgb1 = cv2.cvtColor(img1,cv2.COLOR_BGR2RGB) # 將影像格式從BGR轉成RGB\n",
        "rgb2 = cv2.cvtColor(img2,cv2.COLOR_BGR2RGB) # 將影像格式從BGR轉成RGB\n",
        "rgb3 = cv2.cvtColor(img3,cv2.COLOR_BGR2RGB) # 將影像格式從BGR轉成RGB\n",
        "\n",
        "titles = ['ori','blur', 'sharp'] # 設定標題\n",
        "images = [rgb1,rgb2, rgb3] # 設定影像\n",
        "\n",
        "for i in range(3): # 顯示結果影像\n",
        "    plt.subplot(1,3,i+1),plt.imshow(images[i])\n",
        "    plt.title(titles[i])\n",
        "    plt.xticks([]),plt.yticks([])\n",
        "\n",
        "plt.rcParams['figure.dpi'] = 150\n",
        "plt.show()"
      ],
      "execution_count": null,
      "outputs": []
    }
  ]
}