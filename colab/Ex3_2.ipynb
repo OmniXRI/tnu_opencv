{
  "nbformat": 4,
  "nbformat_minor": 0,
  "metadata": {
    "colab": {
      "name": "Ex3-2.ipynb",
      "provenance": [],
      "collapsed_sections": []
    },
    "kernelspec": {
      "name": "python3",
      "display_name": "Python 3"
    },
    "language_info": {
      "name": "python"
    }
  },
  "cells": [
    {
      "cell_type": "markdown",
      "metadata": {
        "id": "emyQWMLJbrcV"
      },
      "source": [
        "Ex3-2 色彩提取，找出色球位置\n",
        "\n",
        "程式設計 : OmniXRI Jack 2021/04/09\n"
      ]
    },
    {
      "cell_type": "code",
      "metadata": {
        "id": "dk6Kyu2ZbnDb"
      },
      "source": [
        "# 下載測試用影像\n",
        "!wget -N https://raw.githubusercontent.com/OmniXRI/tnu_opencv/main/samples/color_ball.jpg\n",
        "# 檢查工作路徑內容\n",
        "!ls"
      ],
      "execution_count": null,
      "outputs": []
    },
    {
      "cell_type": "code",
      "metadata": {
        "id": "ggxaoua3b6oZ"
      },
      "source": [
        "import cv2 # 導入cv2函式庫\n",
        "import numpy as np #導入numpy函式庫\n",
        "import matplotlib.pyplot as plt # 導入matplotlib函式庫\n",
        "\n",
        "imgSrc = cv2.imread('color_ball.jpg',cv2.IMREAD_COLOR) # 讀入彩色影像\n",
        "imgHSV = cv2.cvtColor(imgSrc,cv2.COLOR_BGR2HSV) #將BGR色彩空間轉至HSV\n",
        "\n",
        "H,S,V = cv2.split(imgHSV) # H為0到179，代表0到359度\n",
        "Lower = np.array([100, 100, 50]) # 設定藍色H,S,V下限\n",
        "Upper = np.array([130, 255, 255]) # 設定藍色H,S,V上限\n",
        "mask = cv2.inRange(imgHSV, Lower, Upper) # 產生範圍遮罩\n",
        "BlueThings = cv2.bitwise_and(imgSrc, imgSrc, mask=mask) # 進行AND位元運算過濾出藍色區域\n",
        "\n",
        "rgb1 = cv2.cvtColor(imgSrc,cv2.COLOR_BGR2RGB) # 將影像格式從BGR轉成RGB\n",
        "rgb2 = cv2.cvtColor(BlueThings,cv2.COLOR_BGR2RGB) # 將影像格式從BGR轉成RGB\n",
        "\n",
        "titles = ['img','filter'] # 設定標題\n",
        "images = [rgb1,rgb2] # 設定影像\n",
        "\n",
        "for i in range(2): # 顯示結果影像\n",
        "    plt.subplot(1,2,i+1),plt.imshow(images[i])\n",
        "    plt.title(titles[i])\n",
        "    plt.xticks([]),plt.yticks([])\n",
        "\n",
        "plt.rcParams['figure.dpi'] = 150    \n",
        "plt.show()\n"
      ],
      "execution_count": null,
      "outputs": []
    }
  ]
}