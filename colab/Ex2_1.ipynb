{
  "nbformat": 4,
  "nbformat_minor": 0,
  "metadata": {
    "colab": {
      "name": "Ex2-1.ipynb",
      "provenance": [],
      "collapsed_sections": []
    },
    "kernelspec": {
      "name": "python3",
      "display_name": "Python 3"
    },
    "language_info": {
      "name": "python"
    }
  },
  "cells": [
    {
      "cell_type": "markdown",
      "metadata": {
        "id": "bxffeOSQqCs9"
      },
      "source": [
        "Ex2-1 讀入影像轉成灰階並顯示影像屬性\n",
        "\n",
        "程式設計 : OmniXRI Jack 2021/03/26"
      ]
    },
    {
      "cell_type": "code",
      "metadata": {
        "id": "mSibltc3qBZF"
      },
      "source": [
        "# 下載測試用影像 Lena.png\n",
        "!wget -N https://raw.githubusercontent.com/OmniXRI/tnu_opencv/main/samples/Lena.png\n",
        "# 檢查工作路徑內容\n",
        "!ls"
      ],
      "execution_count": null,
      "outputs": []
    },
    {
      "cell_type": "code",
      "metadata": {
        "id": "ivOrhbS-qTwJ"
      },
      "source": [
        "import cv2 # 導入 cv2 函式庫\n",
        "from google.colab.patches import cv2_imshow # 從 google.colab.patches 導入 cv2_imshow 函式 \n",
        "\n",
        "img1 = cv2.imread('Lena.png',cv2.IMREAD_GRAYSCALE) # 讀入影像並轉成灰階\n",
        "print(img1.shape) # 顯示(高, 寬, 通道數)\n",
        "print(img1.size) # 顯示影像大小(高*寬*通道數）\n",
        "print(img1.dtype) # 顯示影像格式(uint8)\n",
        "cv2_imshow(img1) # 顯示影像"
      ],
      "execution_count": null,
      "outputs": []
    }
  ]
}
